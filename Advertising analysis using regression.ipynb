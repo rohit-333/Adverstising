{
 "cells": [
  {
   "cell_type": "code",
   "execution_count": 1,
   "metadata": {},
   "outputs": [
    {
     "name": "stderr",
     "output_type": "stream",
     "text": [
      "C:\\Users\\HP\\Anaconda3\\lib\\site-packages\\statsmodels\\tools\\_testing.py:19: FutureWarning: pandas.util.testing is deprecated. Use the functions in the public API at pandas.testing instead.\n",
      "  import pandas.util.testing as tm\n"
     ]
    }
   ],
   "source": [
    "import pandas as pd\n",
    "import numpy as np\n",
    "import matplotlib.pyplot as plt\n",
    "import seaborn as sns"
   ]
  },
  {
   "cell_type": "code",
   "execution_count": 2,
   "metadata": {},
   "outputs": [
    {
     "data": {
      "text/html": [
       "<div>\n",
       "<style scoped>\n",
       "    .dataframe tbody tr th:only-of-type {\n",
       "        vertical-align: middle;\n",
       "    }\n",
       "\n",
       "    .dataframe tbody tr th {\n",
       "        vertical-align: top;\n",
       "    }\n",
       "\n",
       "    .dataframe thead th {\n",
       "        text-align: right;\n",
       "    }\n",
       "</style>\n",
       "<table border=\"1\" class=\"dataframe\">\n",
       "  <thead>\n",
       "    <tr style=\"text-align: right;\">\n",
       "      <th></th>\n",
       "      <th>TV</th>\n",
       "      <th>radio</th>\n",
       "      <th>newspaper</th>\n",
       "      <th>sales</th>\n",
       "    </tr>\n",
       "  </thead>\n",
       "  <tbody>\n",
       "    <tr>\n",
       "      <th>1</th>\n",
       "      <td>230.1</td>\n",
       "      <td>37.8</td>\n",
       "      <td>69.2</td>\n",
       "      <td>22.1</td>\n",
       "    </tr>\n",
       "    <tr>\n",
       "      <th>2</th>\n",
       "      <td>44.5</td>\n",
       "      <td>39.3</td>\n",
       "      <td>45.1</td>\n",
       "      <td>10.4</td>\n",
       "    </tr>\n",
       "    <tr>\n",
       "      <th>3</th>\n",
       "      <td>17.2</td>\n",
       "      <td>45.9</td>\n",
       "      <td>69.3</td>\n",
       "      <td>9.3</td>\n",
       "    </tr>\n",
       "    <tr>\n",
       "      <th>4</th>\n",
       "      <td>151.5</td>\n",
       "      <td>41.3</td>\n",
       "      <td>58.5</td>\n",
       "      <td>18.5</td>\n",
       "    </tr>\n",
       "    <tr>\n",
       "      <th>5</th>\n",
       "      <td>180.8</td>\n",
       "      <td>10.8</td>\n",
       "      <td>58.4</td>\n",
       "      <td>12.9</td>\n",
       "    </tr>\n",
       "  </tbody>\n",
       "</table>\n",
       "</div>"
      ],
      "text/plain": [
       "      TV  radio  newspaper  sales\n",
       "1  230.1   37.8       69.2   22.1\n",
       "2   44.5   39.3       45.1   10.4\n",
       "3   17.2   45.9       69.3    9.3\n",
       "4  151.5   41.3       58.5   18.5\n",
       "5  180.8   10.8       58.4   12.9"
      ]
     },
     "execution_count": 2,
     "metadata": {},
     "output_type": "execute_result"
    }
   ],
   "source": [
    "data=pd.read_csv(r'F:/Advertising.csv',index_col=0,header=0)\n",
    "data.head() #dependent is sales variables on independent other variables."
   ]
  },
  {
   "cell_type": "code",
   "execution_count": 3,
   "metadata": {},
   "outputs": [
    {
     "name": "stdout",
     "output_type": "stream",
     "text": [
      "TV           float64\n",
      "radio        float64\n",
      "newspaper    float64\n",
      "sales        float64\n",
      "dtype: object\n",
      "(200, 4)\n",
      "               TV       radio   newspaper       sales\n",
      "count  200.000000  200.000000  200.000000  200.000000\n",
      "mean   147.042500   23.264000   30.554000   14.022500\n",
      "std     85.854236   14.846809   21.778621    5.217457\n",
      "min      0.700000    0.000000    0.300000    1.600000\n",
      "25%     74.375000    9.975000   12.750000   10.375000\n",
      "50%    149.750000   22.900000   25.750000   12.900000\n",
      "75%    218.825000   36.525000   45.100000   17.400000\n",
      "max    296.400000   49.600000  114.000000   27.000000\n"
     ]
    }
   ],
   "source": [
    "print(data.dtypes)\n",
    "print(data.shape)\n",
    "print(data.describe()) #all are numerical so esay to take linear reg. if categorial , then need to convert in numerics"
   ]
  },
  {
   "cell_type": "code",
   "execution_count": 4,
   "metadata": {},
   "outputs": [
    {
     "data": {
      "text/plain": [
       "<matplotlib.axes._subplots.AxesSubplot at 0x2b20184c548>"
      ]
     },
     "execution_count": 4,
     "metadata": {},
     "output_type": "execute_result"
    },
    {
     "data": {
      "image/png": "[encoded data removed]",
      "text/plain": [
       "<Figure size 432x288 with 1 Axes>"
      ]
     },
     "metadata": {
      "needs_background": "light"
     },
     "output_type": "display_data"
    }
   ],
   "source": [
    "data.boxplot(column=\"newspaper\")\n",
    "#(there should be no outliers in data, we found in news[paper] as 2 data, \n",
    "#which is wrong data ener as 75% is 45 , which is far big value in max . \n",
    "#which shows data is far away from investment as shown in plot\")"
   ]
  },
  {
   "cell_type": "code",
   "execution_count": 5,
   "metadata": {},
   "outputs": [
    {
     "data": {
      "text/plain": [
       "<seaborn.axisgrid.PairGrid at 0x2b201903cc8>"
      ]
     },
     "execution_count": 5,
     "metadata": {},
     "output_type": "execute_result"
    },
    {
     "data": {
      "image/png": "[encoded data removed]",
      "text/plain": [
       "<Figure size 540x180 with 3 Axes>"
      ]
     },
     "metadata": {
      "needs_background": "light"
     },
     "output_type": "display_data"
    }
   ],
   "source": [
    "#Assumption of Linearity:Every ind var should have a linear relationship with the dep var.\n",
    "sns.pairplot(data,x_vars=[\"TV\",\"radio\",\"newspaper\"],y_vars=\"sales\",kind=\"reg\")\n",
    "#reg means regression , if you change it to scatter, it will show scatter plot. This is x is indpndt and y is dependent as form linear regression. "
   ]
  },
  {
   "cell_type": "code",
   "execution_count": 6,
   "metadata": {},
   "outputs": [],
   "source": [
    "#create x that those which satisfy linearity\n",
    "X=data[['TV','radio','newspaper']] #removed newspaper as its graphs is not linear. \n",
    "Y=data['sales'] # the dependent variable be normally in distribution."
   ]
  },
  {
   "cell_type": "code",
   "execution_count": 7,
   "metadata": {},
   "outputs": [
    {
     "data": {
      "text/plain": [
       "<matplotlib.axes._subplots.AxesSubplot at 0x2b201cc3988>"
      ]
     },
     "execution_count": 7,
     "metadata": {},
     "output_type": "execute_result"
    },
    {
     "data": {
      "image/png": "[encoded data removed]",
      "text/plain": [
       "<Figure size 432x288 with 1 Axes>"
      ]
     },
     "metadata": {
      "needs_background": "light"
     },
     "output_type": "display_data"
    }
   ],
   "source": [
    "sns.distplot(Y,hist=True)"
   ]
  },
  {
   "cell_type": "code",
   "execution_count": 8,
   "metadata": {},
   "outputs": [
    {
     "data": {
      "text/plain": [
       "'\\n# Log transformation\\nimport numpy as np\\nY_log  = np.log(Y)\\n'"
      ]
     },
     "execution_count": 8,
     "metadata": {},
     "output_type": "execute_result"
    }
   ],
   "source": [
    "\"\"\"\n",
    "# Log transformation\n",
    "import numpy as np\n",
    "Y_log  = np.log(Y)\n",
    "\"\"\"\n",
    "# if normal graph is not apper only then we can log transform that data."
   ]
  },
  {
   "cell_type": "code",
   "execution_count": 9,
   "metadata": {},
   "outputs": [],
   "source": [
    "#sns.distplot(Y_log,hist=True)"
   ]
  },
  {
   "cell_type": "code",
   "execution_count": 10,
   "metadata": {},
   "outputs": [
    {
     "data": {
      "text/plain": [
       "array([[<matplotlib.axes._subplots.AxesSubplot object at 0x000002B201CCC748>,\n",
       "        <matplotlib.axes._subplots.AxesSubplot object at 0x000002B201D94148>],\n",
       "       [<matplotlib.axes._subplots.AxesSubplot object at 0x000002B201DC98C8>,\n",
       "        <matplotlib.axes._subplots.AxesSubplot object at 0x000002B201DFEFC8>]],\n",
       "      dtype=object)"
      ]
     },
     "execution_count": 10,
     "metadata": {},
     "output_type": "execute_result"
    },
    {
     "data": {
      "image/png": "[encoded data removed]",
      "text/plain": [
       "<Figure size 432x288 with 4 Axes>"
      ]
     },
     "metadata": {
      "needs_background": "light"
     },
     "output_type": "display_data"
    }
   ],
   "source": [
    "X.hist(bins=20) # here newspaper shows positive or right skewness.         "
   ]
  },
  {
   "cell_type": "code",
   "execution_count": 11,
   "metadata": {},
   "outputs": [
    {
     "name": "stdout",
     "output_type": "stream",
     "text": [
      "TV          -0.069328\n",
      "radio        0.093467\n",
      "newspaper    0.887996\n",
      "dtype: float64\n",
      "newspaper    0.887996\n",
      "dtype: float64\n"
     ]
    },
    {
     "name": "stderr",
     "output_type": "stream",
     "text": [
      "C:\\Users\\HP\\Anaconda3\\lib\\site-packages\\pandas\\core\\frame.py:2963: SettingWithCopyWarning: \n",
      "A value is trying to be set on a copy of a slice from a DataFrame.\n",
      "Try using .loc[row_indexer,col_indexer] = value instead\n",
      "\n",
      "See the caveats in the documentation: https://pandas.pydata.org/pandas-docs/stable/user_guide/indexing.html#returning-a-view-versus-a-copy\n",
      "  self[k1] = value[k2]\n"
     ]
    }
   ],
   "source": [
    "# do not perform log transform excution more than one, run this only once.\n",
    "from scipy.stats import skew\n",
    "data_num_skew = X.apply(lambda x: skew(x.dropna()))# apply is a logic which use to apply on each n every thing present in X, now ut will drop null value of X(tv, radio,newspaper) and run skewness.\n",
    "data_num_skewed = data_num_skew[(data_num_skew > .75) | (data_num_skew < -.75)] # this shows higher variable skewness\n",
    "\n",
    "print(data_num_skew)\n",
    "print(data_num_skewed)\n",
    "import numpy as np\n",
    "# apply log + 1 transformation for all numeric features with skewness over .75\n",
    "X[data_num_skewed.index] = np.log1p(X[data_num_skewed.index]) # this is use to stop infinite value for skewness, log1p is use so that missing value for skewness is not take value to infinity.\n",
    "\n"
   ]
  },
  {
   "cell_type": "code",
   "execution_count": 12,
   "metadata": {},
   "outputs": [
    {
     "name": "stdout",
     "output_type": "stream",
     "text": [
      "                 TV     radio  newspaper\n",
      "TV         1.000000  0.054809   0.030951\n",
      "radio      0.054809  1.000000   0.251909\n",
      "newspaper  0.030951  0.251909   1.000000\n"
     ]
    },
    {
     "data": {
      "text/plain": [
       "<matplotlib.axes._subplots.AxesSubplot at 0x2b201f5c588>"
      ]
     },
     "execution_count": 12,
     "metadata": {},
     "output_type": "execute_result"
    },
    {
     "data": {
      "image/png": "[encoded data removed]",
      "text/plain": [
       "<Figure size 432x288 with 2 Axes>"
      ]
     },
     "metadata": {
      "needs_background": "light"
     },
     "output_type": "display_data"
    }
   ],
   "source": [
    "# there should be no multi-colinearity in the data and there are 2 ways to check multi-colinearity.\n",
    "\n",
    "corr_df=X.corr(method=\"pearson\")# techique to use pearson to find corelation as there are many other.\n",
    "print(corr_df)\n",
    "\n",
    "sns.heatmap(corr_df,vmax=1.0,vmin=-1.0,annot=True)"
   ]
  },
  {
   "cell_type": "code",
   "execution_count": 13,
   "metadata": {},
   "outputs": [
    {
     "data": {
      "text/html": [
       "<div>\n",
       "<style scoped>\n",
       "    .dataframe tbody tr th:only-of-type {\n",
       "        vertical-align: middle;\n",
       "    }\n",
       "\n",
       "    .dataframe tbody tr th {\n",
       "        vertical-align: top;\n",
       "    }\n",
       "\n",
       "    .dataframe thead th {\n",
       "        text-align: right;\n",
       "    }\n",
       "</style>\n",
       "<table border=\"1\" class=\"dataframe\">\n",
       "  <thead>\n",
       "    <tr style=\"text-align: right;\">\n",
       "      <th></th>\n",
       "      <th>features</th>\n",
       "      <th>VIF Factor</th>\n",
       "    </tr>\n",
       "  </thead>\n",
       "  <tbody>\n",
       "    <tr>\n",
       "      <th>0</th>\n",
       "      <td>TV</td>\n",
       "      <td>3.39</td>\n",
       "    </tr>\n",
       "    <tr>\n",
       "      <th>1</th>\n",
       "      <td>radio</td>\n",
       "      <td>3.63</td>\n",
       "    </tr>\n",
       "    <tr>\n",
       "      <th>2</th>\n",
       "      <td>newspaper</td>\n",
       "      <td>5.44</td>\n",
       "    </tr>\n",
       "  </tbody>\n",
       "</table>\n",
       "</div>"
      ],
      "text/plain": [
       "    features  VIF Factor\n",
       "0         TV        3.39\n",
       "1      radio        3.63\n",
       "2  newspaper        5.44"
      ]
     },
     "execution_count": 13,
     "metadata": {},
     "output_type": "execute_result"
    }
   ],
   "source": [
    "from statsmodels.stats.outliers_influence import variance_inflation_factor as vif\n",
    "\n",
    "vif_df = pd.DataFrame()\n",
    "vif_df[\"features\"] = X.columns #This will fetch x variable as tv, radio, news paper\n",
    "vif_df[\"VIF Factor\"] = [vif(X.values, i) for i in range(X.shape[1])] # this will run VIF in loop for each variable and show its vif values.\n",
    "vif_df.round(2) #round 2 will show decimal point by 3,\n"
   ]
  },
  {
   "cell_type": "code",
   "execution_count": 14,
   "metadata": {},
   "outputs": [],
   "source": [
    "from sklearn.model_selection import train_test_split\n",
    "\n",
    "#Split the data into test and train\n",
    "X_train, X_test, Y_train, Y_test = train_test_split(X, Y, test_size=0.2,\n",
    "                                                    random_state=10)  \n",
    "#Don't change the LHS data of(xtrain, xtest) as this will affect in result bcoz it will RHS will run wrt to LHS, we can change size 0.2 or 0.3."
   ]
  },
  {
   "cell_type": "code",
   "execution_count": 15,
   "metadata": {},
   "outputs": [
    {
     "name": "stdout",
     "output_type": "stream",
     "text": [
      "191    10.8\n",
      "8      13.2\n",
      "27     15.0\n",
      "139     9.6\n",
      "59     23.8\n",
      "       ... \n",
      "114    15.9\n",
      "65     18.0\n",
      "16     22.4\n",
      "126    10.6\n",
      "10     10.6\n",
      "Name: sales, Length: 160, dtype: float64\n"
     ]
    }
   ],
   "source": [
    "print(Y_train)"
   ]
  },
  {
   "cell_type": "code",
   "execution_count": 16,
   "metadata": {},
   "outputs": [
    {
     "name": "stdout",
     "output_type": "stream",
     "text": [
      "3.353291385815151\n",
      "[ 0.0437425   0.19303708 -0.04895137]\n"
     ]
    }
   ],
   "source": [
    "from sklearn.linear_model import LinearRegression\n",
    "#create a model object\n",
    "lm=LinearRegression() #build model\n",
    "#train the model object\n",
    "lm.fit(X_train,Y_train)# train that model\n",
    "\n",
    "#print intercept and coefficent\n",
    "print(lm.intercept_)\n",
    "print(lm.coef_)"
   ]
  },
  {
   "cell_type": "code",
   "execution_count": 17,
   "metadata": {},
   "outputs": [
    {
     "name": "stdout",
     "output_type": "stream",
     "text": [
      "[('TV', 0.04374250157742167), ('radio', 0.19303707897345293), ('newspaper', -0.04895136822248788)]\n"
     ]
    }
   ],
   "source": [
    "#pair the features name with the coefficent\n",
    "print(list(zip(X.columns,lm.coef_)))\n",
    "#this shows that if i invest in newspaper my sales will go down."
   ]
  },
  {
   "cell_type": "code",
   "execution_count": 18,
   "metadata": {},
   "outputs": [
    {
     "name": "stdout",
     "output_type": "stream",
     "text": [
      "22.136112618653826\n"
     ]
    }
   ],
   "source": [
    "X1=100\n",
    "X2=100\n",
    "X3=100\n",
    "Y_pred=3.353291385815151+(0.04374250157742167*X1)+(0.19303707897345293*X2)+(-0.04895136822248788*X3)\n",
    "print(Y_pred)\n",
    "# this shows profit is below shown as 22000 $"
   ]
  },
  {
   "cell_type": "code",
   "execution_count": 19,
   "metadata": {},
   "outputs": [
    {
     "name": "stdout",
     "output_type": "stream",
     "text": [
      "27.031249440902613\n"
     ]
    }
   ],
   "source": [
    "X1=100\n",
    "X2=100\n",
    "X3=0\n",
    "Y_pred=3.353291385815151+(0.04374250157742167*X1)+(0.19303707897345293*X2)+(-0.04895136822248788*X3)\n",
    "print(Y_pred)\n",
    "# As if i removed newspaper which shows X3=0, this shows profit is as 27000 $. I removed as newspaper value ws in -ve. now sales goes high."
   ]
  },
  {
   "cell_type": "code",
   "execution_count": 20,
   "metadata": {},
   "outputs": [
    {
     "name": "stdout",
     "output_type": "stream",
     "text": [
      "[18.15026866 12.96136899 18.05815332 23.66025079 20.68751041 14.26325872\n",
      " 14.92774472 21.38847375 21.14752911 12.75788534 23.99735583  7.20632737\n",
      " 12.30777109 19.22813333 19.41581583 13.44985803 19.62619644  9.24667496\n",
      " 21.1052867  20.87838433 15.52611251 10.91695579 22.82910679 15.82915597\n",
      " 17.40742204  8.17170435 11.88738387 12.69866637 21.71275044  7.94920205\n",
      " 12.49118989 20.43292079  4.71443086  4.72126238 16.7504848  15.74384945\n",
      "  6.74775596 17.73750244  9.01170001 13.60841593]\n"
     ]
    }
   ],
   "source": [
    "Y_pred=lm.predict(X_test)\n",
    "print(Y_pred)"
   ]
  },
  {
   "cell_type": "code",
   "execution_count": 21,
   "metadata": {},
   "outputs": [
    {
     "name": "stderr",
     "output_type": "stream",
     "text": [
      "C:\\Users\\HP\\Anaconda3\\lib\\site-packages\\ipykernel_launcher.py:4: SettingWithCopyWarning: \n",
      "A value is trying to be set on a copy of a slice from a DataFrame.\n",
      "Try using .loc[row_indexer,col_indexer] = value instead\n",
      "\n",
      "See the caveats in the documentation: https://pandas.pydata.org/pandas-docs/stable/user_guide/indexing.html#returning-a-view-versus-a-copy\n",
      "  after removing the cwd from sys.path.\n",
      "C:\\Users\\HP\\Anaconda3\\lib\\site-packages\\ipykernel_launcher.py:5: SettingWithCopyWarning: \n",
      "A value is trying to be set on a copy of a slice from a DataFrame.\n",
      "Try using .loc[row_indexer,col_indexer] = value instead\n",
      "\n",
      "See the caveats in the documentation: https://pandas.pydata.org/pandas-docs/stable/user_guide/indexing.html#returning-a-view-versus-a-copy\n",
      "  \"\"\"\n"
     ]
    },
    {
     "data": {
      "text/html": [
       "<div>\n",
       "<style scoped>\n",
       "    .dataframe tbody tr th:only-of-type {\n",
       "        vertical-align: middle;\n",
       "    }\n",
       "\n",
       "    .dataframe tbody tr th {\n",
       "        vertical-align: top;\n",
       "    }\n",
       "\n",
       "    .dataframe thead th {\n",
       "        text-align: right;\n",
       "    }\n",
       "</style>\n",
       "<table border=\"1\" class=\"dataframe\">\n",
       "  <thead>\n",
       "    <tr style=\"text-align: right;\">\n",
       "      <th></th>\n",
       "      <th>TV</th>\n",
       "      <th>radio</th>\n",
       "      <th>newspaper</th>\n",
       "      <th>Actual sales</th>\n",
       "      <th>Predicted sales</th>\n",
       "    </tr>\n",
       "  </thead>\n",
       "  <tbody>\n",
       "    <tr>\n",
       "      <th>60</th>\n",
       "      <td>210.7</td>\n",
       "      <td>29.5</td>\n",
       "      <td>2.332144</td>\n",
       "      <td>18.4</td>\n",
       "      <td>18.150269</td>\n",
       "    </tr>\n",
       "    <tr>\n",
       "      <th>6</th>\n",
       "      <td>8.7</td>\n",
       "      <td>48.9</td>\n",
       "      <td>4.330733</td>\n",
       "      <td>7.2</td>\n",
       "      <td>12.961369</td>\n",
       "    </tr>\n",
       "    <tr>\n",
       "      <th>21</th>\n",
       "      <td>218.4</td>\n",
       "      <td>27.7</td>\n",
       "      <td>3.996364</td>\n",
       "      <td>18.0</td>\n",
       "      <td>18.058153</td>\n",
       "    </tr>\n",
       "    <tr>\n",
       "      <th>199</th>\n",
       "      <td>283.6</td>\n",
       "      <td>42.0</td>\n",
       "      <td>4.207673</td>\n",
       "      <td>25.5</td>\n",
       "      <td>23.660251</td>\n",
       "    </tr>\n",
       "    <tr>\n",
       "      <th>53</th>\n",
       "      <td>216.4</td>\n",
       "      <td>41.7</td>\n",
       "      <td>3.703768</td>\n",
       "      <td>22.6</td>\n",
       "      <td>20.687510</td>\n",
       "    </tr>\n",
       "    <tr>\n",
       "      <th>20</th>\n",
       "      <td>147.3</td>\n",
       "      <td>23.9</td>\n",
       "      <td>3.000720</td>\n",
       "      <td>14.6</td>\n",
       "      <td>14.263259</td>\n",
       "    </tr>\n",
       "    <tr>\n",
       "      <th>163</th>\n",
       "      <td>188.4</td>\n",
       "      <td>18.1</td>\n",
       "      <td>3.280911</td>\n",
       "      <td>14.9</td>\n",
       "      <td>14.927745</td>\n",
       "    </tr>\n",
       "    <tr>\n",
       "      <th>56</th>\n",
       "      <td>198.9</td>\n",
       "      <td>49.4</td>\n",
       "      <td>4.110874</td>\n",
       "      <td>23.7</td>\n",
       "      <td>21.388474</td>\n",
       "    </tr>\n",
       "    <tr>\n",
       "      <th>70</th>\n",
       "      <td>216.8</td>\n",
       "      <td>43.9</td>\n",
       "      <td>3.339322</td>\n",
       "      <td>22.3</td>\n",
       "      <td>21.147529</td>\n",
       "    </tr>\n",
       "    <tr>\n",
       "      <th>3</th>\n",
       "      <td>17.2</td>\n",
       "      <td>45.9</td>\n",
       "      <td>4.252772</td>\n",
       "      <td>9.3</td>\n",
       "      <td>12.757885</td>\n",
       "    </tr>\n",
       "    <tr>\n",
       "      <th>99</th>\n",
       "      <td>289.7</td>\n",
       "      <td>42.3</td>\n",
       "      <td>3.955082</td>\n",
       "      <td>25.4</td>\n",
       "      <td>23.997356</td>\n",
       "    </tr>\n",
       "    <tr>\n",
       "      <th>11</th>\n",
       "      <td>66.1</td>\n",
       "      <td>5.8</td>\n",
       "      <td>3.226844</td>\n",
       "      <td>8.6</td>\n",
       "      <td>7.206327</td>\n",
       "    </tr>\n",
       "    <tr>\n",
       "      <th>76</th>\n",
       "      <td>16.9</td>\n",
       "      <td>43.7</td>\n",
       "      <td>4.504244</td>\n",
       "      <td>8.7</td>\n",
       "      <td>12.307771</td>\n",
       "    </tr>\n",
       "    <tr>\n",
       "      <th>143</th>\n",
       "      <td>220.5</td>\n",
       "      <td>33.2</td>\n",
       "      <td>3.660994</td>\n",
       "      <td>20.1</td>\n",
       "      <td>19.228133</td>\n",
       "    </tr>\n",
       "    <tr>\n",
       "      <th>125</th>\n",
       "      <td>229.5</td>\n",
       "      <td>32.3</td>\n",
       "      <td>4.320151</td>\n",
       "      <td>19.7</td>\n",
       "      <td>19.415816</td>\n",
       "    </tr>\n",
       "    <tr>\n",
       "      <th>64</th>\n",
       "      <td>102.7</td>\n",
       "      <td>29.6</td>\n",
       "      <td>2.240710</td>\n",
       "      <td>14.0</td>\n",
       "      <td>13.449858</td>\n",
       "    </tr>\n",
       "    <tr>\n",
       "      <th>110</th>\n",
       "      <td>255.4</td>\n",
       "      <td>26.9</td>\n",
       "      <td>1.871802</td>\n",
       "      <td>19.8</td>\n",
       "      <td>19.626196</td>\n",
       "    </tr>\n",
       "    <tr>\n",
       "      <th>79</th>\n",
       "      <td>5.4</td>\n",
       "      <td>29.9</td>\n",
       "      <td>2.341806</td>\n",
       "      <td>5.3</td>\n",
       "      <td>9.246675</td>\n",
       "    </tr>\n",
       "    <tr>\n",
       "      <th>112</th>\n",
       "      <td>241.7</td>\n",
       "      <td>38.0</td>\n",
       "      <td>3.186353</td>\n",
       "      <td>21.8</td>\n",
       "      <td>21.105287</td>\n",
       "    </tr>\n",
       "    <tr>\n",
       "      <th>186</th>\n",
       "      <td>205.0</td>\n",
       "      <td>45.1</td>\n",
       "      <td>3.025291</td>\n",
       "      <td>22.6</td>\n",
       "      <td>20.878384</td>\n",
       "    </tr>\n",
       "    <tr>\n",
       "      <th>155</th>\n",
       "      <td>187.8</td>\n",
       "      <td>21.1</td>\n",
       "      <td>2.351375</td>\n",
       "      <td>15.6</td>\n",
       "      <td>15.526113</td>\n",
       "    </tr>\n",
       "    <tr>\n",
       "      <th>131</th>\n",
       "      <td>0.7</td>\n",
       "      <td>39.6</td>\n",
       "      <td>2.272126</td>\n",
       "      <td>1.6</td>\n",
       "      <td>10.916956</td>\n",
       "    </tr>\n",
       "    <tr>\n",
       "      <th>62</th>\n",
       "      <td>261.3</td>\n",
       "      <td>42.7</td>\n",
       "      <td>4.019980</td>\n",
       "      <td>24.2</td>\n",
       "      <td>22.829107</td>\n",
       "    </tr>\n",
       "    <tr>\n",
       "      <th>88</th>\n",
       "      <td>110.7</td>\n",
       "      <td>40.6</td>\n",
       "      <td>4.162003</td>\n",
       "      <td>16.0</td>\n",
       "      <td>15.829156</td>\n",
       "    </tr>\n",
       "    <tr>\n",
       "      <th>103</th>\n",
       "      <td>280.2</td>\n",
       "      <td>10.1</td>\n",
       "      <td>3.109061</td>\n",
       "      <td>14.8</td>\n",
       "      <td>17.407422</td>\n",
       "    </tr>\n",
       "    <tr>\n",
       "      <th>122</th>\n",
       "      <td>18.8</td>\n",
       "      <td>21.7</td>\n",
       "      <td>3.939638</td>\n",
       "      <td>7.0</td>\n",
       "      <td>8.171704</td>\n",
       "    </tr>\n",
       "    <tr>\n",
       "      <th>137</th>\n",
       "      <td>25.6</td>\n",
       "      <td>39.0</td>\n",
       "      <td>2.332144</td>\n",
       "      <td>9.5</td>\n",
       "      <td>11.887384</td>\n",
       "    </tr>\n",
       "    <tr>\n",
       "      <th>2</th>\n",
       "      <td>44.5</td>\n",
       "      <td>39.3</td>\n",
       "      <td>3.830813</td>\n",
       "      <td>10.4</td>\n",
       "      <td>12.698666</td>\n",
       "    </tr>\n",
       "    <tr>\n",
       "      <th>48</th>\n",
       "      <td>239.9</td>\n",
       "      <td>41.5</td>\n",
       "      <td>2.970414</td>\n",
       "      <td>23.2</td>\n",
       "      <td>21.712750</td>\n",
       "    </tr>\n",
       "    <tr>\n",
       "      <th>173</th>\n",
       "      <td>19.6</td>\n",
       "      <td>20.1</td>\n",
       "      <td>2.890372</td>\n",
       "      <td>7.6</td>\n",
       "      <td>7.949202</td>\n",
       "    </tr>\n",
       "    <tr>\n",
       "      <th>160</th>\n",
       "      <td>131.7</td>\n",
       "      <td>18.4</td>\n",
       "      <td>3.572346</td>\n",
       "      <td>12.9</td>\n",
       "      <td>12.491190</td>\n",
       "    </tr>\n",
       "    <tr>\n",
       "      <th>40</th>\n",
       "      <td>228.0</td>\n",
       "      <td>37.7</td>\n",
       "      <td>3.496508</td>\n",
       "      <td>21.5</td>\n",
       "      <td>20.432921</td>\n",
       "    </tr>\n",
       "    <tr>\n",
       "      <th>77</th>\n",
       "      <td>27.5</td>\n",
       "      <td>1.6</td>\n",
       "      <td>3.077312</td>\n",
       "      <td>6.9</td>\n",
       "      <td>4.714431</td>\n",
       "    </tr>\n",
       "    <tr>\n",
       "      <th>92</th>\n",
       "      <td>28.6</td>\n",
       "      <td>1.5</td>\n",
       "      <td>3.526361</td>\n",
       "      <td>7.3</td>\n",
       "      <td>4.721262</td>\n",
       "    </tr>\n",
       "    <tr>\n",
       "      <th>36</th>\n",
       "      <td>290.7</td>\n",
       "      <td>4.1</td>\n",
       "      <td>2.251292</td>\n",
       "      <td>12.8</td>\n",
       "      <td>16.750485</td>\n",
       "    </tr>\n",
       "    <tr>\n",
       "      <th>179</th>\n",
       "      <td>276.7</td>\n",
       "      <td>2.3</td>\n",
       "      <td>3.206803</td>\n",
       "      <td>11.8</td>\n",
       "      <td>15.743849</td>\n",
       "    </tr>\n",
       "    <tr>\n",
       "      <th>128</th>\n",
       "      <td>80.2</td>\n",
       "      <td>0.0</td>\n",
       "      <td>2.322388</td>\n",
       "      <td>8.8</td>\n",
       "      <td>6.747756</td>\n",
       "    </tr>\n",
       "    <tr>\n",
       "      <th>170</th>\n",
       "      <td>284.3</td>\n",
       "      <td>10.6</td>\n",
       "      <td>2.001480</td>\n",
       "      <td>15.0</td>\n",
       "      <td>17.737502</td>\n",
       "    </tr>\n",
       "    <tr>\n",
       "      <th>47</th>\n",
       "      <td>89.7</td>\n",
       "      <td>9.9</td>\n",
       "      <td>3.602777</td>\n",
       "      <td>10.6</td>\n",
       "      <td>9.011700</td>\n",
       "    </tr>\n",
       "    <tr>\n",
       "      <th>175</th>\n",
       "      <td>222.4</td>\n",
       "      <td>3.4</td>\n",
       "      <td>2.646175</td>\n",
       "      <td>11.5</td>\n",
       "      <td>13.608416</td>\n",
       "    </tr>\n",
       "  </tbody>\n",
       "</table>\n",
       "</div>"
      ],
      "text/plain": [
       "        TV  radio  newspaper  Actual sales  Predicted sales\n",
       "60   210.7   29.5   2.332144          18.4        18.150269\n",
       "6      8.7   48.9   4.330733           7.2        12.961369\n",
       "21   218.4   27.7   3.996364          18.0        18.058153\n",
       "199  283.6   42.0   4.207673          25.5        23.660251\n",
       "53   216.4   41.7   3.703768          22.6        20.687510\n",
       "20   147.3   23.9   3.000720          14.6        14.263259\n",
       "163  188.4   18.1   3.280911          14.9        14.927745\n",
       "56   198.9   49.4   4.110874          23.7        21.388474\n",
       "70   216.8   43.9   3.339322          22.3        21.147529\n",
       "3     17.2   45.9   4.252772           9.3        12.757885\n",
       "99   289.7   42.3   3.955082          25.4        23.997356\n",
       "11    66.1    5.8   3.226844           8.6         7.206327\n",
       "76    16.9   43.7   4.504244           8.7        12.307771\n",
       "143  220.5   33.2   3.660994          20.1        19.228133\n",
       "125  229.5   32.3   4.320151          19.7        19.415816\n",
       "64   102.7   29.6   2.240710          14.0        13.449858\n",
       "110  255.4   26.9   1.871802          19.8        19.626196\n",
       "79     5.4   29.9   2.341806           5.3         9.246675\n",
       "112  241.7   38.0   3.186353          21.8        21.105287\n",
       "186  205.0   45.1   3.025291          22.6        20.878384\n",
       "155  187.8   21.1   2.351375          15.6        15.526113\n",
       "131    0.7   39.6   2.272126           1.6        10.916956\n",
       "62   261.3   42.7   4.019980          24.2        22.829107\n",
       "88   110.7   40.6   4.162003          16.0        15.829156\n",
       "103  280.2   10.1   3.109061          14.8        17.407422\n",
       "122   18.8   21.7   3.939638           7.0         8.171704\n",
       "137   25.6   39.0   2.332144           9.5        11.887384\n",
       "2     44.5   39.3   3.830813          10.4        12.698666\n",
       "48   239.9   41.5   2.970414          23.2        21.712750\n",
       "173   19.6   20.1   2.890372           7.6         7.949202\n",
       "160  131.7   18.4   3.572346          12.9        12.491190\n",
       "40   228.0   37.7   3.496508          21.5        20.432921\n",
       "77    27.5    1.6   3.077312           6.9         4.714431\n",
       "92    28.6    1.5   3.526361           7.3         4.721262\n",
       "36   290.7    4.1   2.251292          12.8        16.750485\n",
       "179  276.7    2.3   3.206803          11.8        15.743849\n",
       "128   80.2    0.0   2.322388           8.8         6.747756\n",
       "170  284.3   10.6   2.001480          15.0        17.737502\n",
       "47    89.7    9.9   3.602777          10.6         9.011700\n",
       "175  222.4    3.4   2.646175          11.5        13.608416"
      ]
     },
     "execution_count": 21,
     "metadata": {},
     "output_type": "execute_result"
    }
   ],
   "source": [
    "new_df=pd.DataFrame()\n",
    "new_df=X_test\n",
    "\n",
    "new_df[\"Actual sales\"]=Y_test\n",
    "new_df[\"Predicted sales\"]=Y_pred\n",
    "new_df\n"
   ]
  },
  {
   "cell_type": "code",
   "execution_count": 22,
   "metadata": {},
   "outputs": [
    {
     "name": "stdout",
     "output_type": "stream",
     "text": [
      "0.834801071903532\n",
      "2.59297691109306\n",
      "0.8322725168816474\n"
     ]
    }
   ],
   "source": [
    "from sklearn.metrics import r2_score,mean_squared_error\n",
    "import numpy as np\n",
    "\n",
    "r2=r2_score(Y_test,Y_pred)\n",
    "print(r2)\n",
    "\n",
    "rmse=np.sqrt(mean_squared_error(Y_test,Y_pred))\n",
    "print(rmse)\n",
    "\n",
    "adjusted_r_squared = 1 - (1-r2)*(len(Y)-1)/(len(Y)-X.shape[1]-1) #len(y) is no, of obs and X.shape is No. of variable\n",
    "print(adjusted_r_squared)\n"
   ]
  },
  {
   "cell_type": "code",
   "execution_count": 23,
   "metadata": {},
   "outputs": [
    {
     "name": "stdout",
     "output_type": "stream",
     "text": [
      "1.6\n",
      "25.5\n"
     ]
    }
   ],
   "source": [
    "print(min(Y_test))\n",
    "print(max(Y_test))"
   ]
  },
  {
   "cell_type": "code",
   "execution_count": 24,
   "metadata": {},
   "outputs": [
    {
     "name": "stderr",
     "output_type": "stream",
     "text": [
      "C:\\Users\\HP\\Anaconda3\\lib\\site-packages\\ipykernel_launcher.py:1: SettingWithCopyWarning: \n",
      "A value is trying to be set on a copy of a slice from a DataFrame.\n",
      "Try using .loc[row_indexer,col_indexer] = value instead\n",
      "\n",
      "See the caveats in the documentation: https://pandas.pydata.org/pandas-docs/stable/user_guide/indexing.html#returning-a-view-versus-a-copy\n",
      "  \"\"\"Entry point for launching an IPython kernel.\n"
     ]
    },
    {
     "data": {
      "text/html": [
       "<div>\n",
       "<style scoped>\n",
       "    .dataframe tbody tr th:only-of-type {\n",
       "        vertical-align: middle;\n",
       "    }\n",
       "\n",
       "    .dataframe tbody tr th {\n",
       "        vertical-align: top;\n",
       "    }\n",
       "\n",
       "    .dataframe thead th {\n",
       "        text-align: right;\n",
       "    }\n",
       "</style>\n",
       "<table border=\"1\" class=\"dataframe\">\n",
       "  <thead>\n",
       "    <tr style=\"text-align: right;\">\n",
       "      <th></th>\n",
       "      <th>TV</th>\n",
       "      <th>radio</th>\n",
       "      <th>newspaper</th>\n",
       "      <th>Actual sales</th>\n",
       "      <th>Predicted sales</th>\n",
       "      <th>Deviation</th>\n",
       "    </tr>\n",
       "  </thead>\n",
       "  <tbody>\n",
       "    <tr>\n",
       "      <th>60</th>\n",
       "      <td>210.7</td>\n",
       "      <td>29.5</td>\n",
       "      <td>2.332144</td>\n",
       "      <td>18.4</td>\n",
       "      <td>18.150269</td>\n",
       "      <td>0.249731</td>\n",
       "    </tr>\n",
       "    <tr>\n",
       "      <th>6</th>\n",
       "      <td>8.7</td>\n",
       "      <td>48.9</td>\n",
       "      <td>4.330733</td>\n",
       "      <td>7.2</td>\n",
       "      <td>12.961369</td>\n",
       "      <td>-5.761369</td>\n",
       "    </tr>\n",
       "    <tr>\n",
       "      <th>21</th>\n",
       "      <td>218.4</td>\n",
       "      <td>27.7</td>\n",
       "      <td>3.996364</td>\n",
       "      <td>18.0</td>\n",
       "      <td>18.058153</td>\n",
       "      <td>-0.058153</td>\n",
       "    </tr>\n",
       "    <tr>\n",
       "      <th>199</th>\n",
       "      <td>283.6</td>\n",
       "      <td>42.0</td>\n",
       "      <td>4.207673</td>\n",
       "      <td>25.5</td>\n",
       "      <td>23.660251</td>\n",
       "      <td>1.839749</td>\n",
       "    </tr>\n",
       "    <tr>\n",
       "      <th>53</th>\n",
       "      <td>216.4</td>\n",
       "      <td>41.7</td>\n",
       "      <td>3.703768</td>\n",
       "      <td>22.6</td>\n",
       "      <td>20.687510</td>\n",
       "      <td>1.912490</td>\n",
       "    </tr>\n",
       "  </tbody>\n",
       "</table>\n",
       "</div>"
      ],
      "text/plain": [
       "        TV  radio  newspaper  Actual sales  Predicted sales  Deviation\n",
       "60   210.7   29.5   2.332144          18.4        18.150269   0.249731\n",
       "6      8.7   48.9   4.330733           7.2        12.961369  -5.761369\n",
       "21   218.4   27.7   3.996364          18.0        18.058153  -0.058153\n",
       "199  283.6   42.0   4.207673          25.5        23.660251   1.839749\n",
       "53   216.4   41.7   3.703768          22.6        20.687510   1.912490"
      ]
     },
     "execution_count": 24,
     "metadata": {},
     "output_type": "execute_result"
    }
   ],
   "source": [
    "new_df[\"Deviation\"]=new_df[\"Actual sales\"]-new_df[\"Predicted sales\"] #difffrence of value between actual and predicted.\n",
    "new_df.to_excel(\"Sales Prediction.xlsx\",header=True,index=True)\n",
    "new_df.head()\n"
   ]
  },
  {
   "cell_type": "code",
   "execution_count": 25,
   "metadata": {},
   "outputs": [],
   "source": [
    "from sklearn.model_selection import train_test_split\n",
    "\n",
    "#Split the data into test and train\n",
    "X_train, X_test, Y_train, Y_test = train_test_split(X, Y, test_size=0.2,\n",
    "                                                    random_state=10)  \n",
    "#Don't change the LHS data of(xtrain, xtest) as this will affect in result bcoz it will RHS will run wrt to LHS, we can change size 0.2 or 0.3."
   ]
  },
  {
   "cell_type": "code",
   "execution_count": 26,
   "metadata": {},
   "outputs": [
    {
     "name": "stdout",
     "output_type": "stream",
     "text": [
      "3.3522471725965985\n",
      "[ 0.04374234  0.19302603 -0.04853131]\n"
     ]
    },
    {
     "data": {
      "text/plain": [
       "'\\nprevious values:\\n3.353291385815151\\n[ 0.0437425   0.19303708 -0.04895137]\\n'"
      ]
     },
     "execution_count": 26,
     "metadata": {},
     "output_type": "execute_result"
    }
   ],
   "source": [
    "from sklearn.linear_model import Ridge\n",
    "lm = Ridge()\n",
    "lm.fit(X_train,Y_train)\n",
    "\n",
    "# print intercept and coefficients\n",
    "print (lm.intercept_)\n",
    "print (lm.coef_)\n",
    "\"\"\"\n",
    "previous values:\n",
    "3.353291385815151\n",
    "[ 0.0437425   0.19303708 -0.04895137]\n",
    "\"\"\"\n",
    "# ridge use to take all variables and then work on it and also have to work on unwanted variables"
   ]
  },
  {
   "cell_type": "code",
   "execution_count": 27,
   "metadata": {},
   "outputs": [
    {
     "name": "stdout",
     "output_type": "stream",
     "text": [
      "0.8348082644975935\n",
      "2.5929204626839977\n",
      "0.8322798195664342\n"
     ]
    },
    {
     "data": {
      "text/plain": [
       "'\\nPrevious values:\\n0.834801071903532\\n2.59297691109306\\n0.8322725168816474\\n'"
      ]
     },
     "execution_count": 27,
     "metadata": {},
     "output_type": "execute_result"
    }
   ],
   "source": [
    "Y_pred=lm.predict(X_test)\n",
    "\n",
    "from sklearn.metrics import r2_score,mean_squared_error\n",
    "import numpy as np\n",
    "\n",
    "r2=r2_score(Y_test,Y_pred)\n",
    "print(r2)\n",
    "\n",
    "rmse=np.sqrt(mean_squared_error(Y_test,Y_pred))\n",
    "print(rmse)\n",
    "\n",
    "adjusted_r_squared = 1 - (1-r2)*(len(Y)-1)/(len(Y)-X.shape[1]-1)\n",
    "print(adjusted_r_squared)\n",
    "\n",
    "\n",
    "\"\"\"\n",
    "Previous values:\n",
    "0.834801071903532\n",
    "2.59297691109306\n",
    "0.8322725168816474\n",
    "\"\"\"\n"
   ]
  },
  {
   "cell_type": "code",
   "execution_count": 28,
   "metadata": {},
   "outputs": [
    {
     "name": "stdout",
     "output_type": "stream",
     "text": [
      "3.336794058220317\n",
      "[ 0.04362374  0.18766033 -0.        ]\n"
     ]
    }
   ],
   "source": [
    "from sklearn.linear_model import Lasso\n",
    "lm = Lasso()\n",
    "lm.fit(X_train,Y_train)\n",
    "\n",
    "# print intercept and coefficients\n",
    "print (lm.intercept_)\n",
    "print (lm.coef_)\n",
    "\n",
    "#if you have taken particular variable for regresson than lasso will do great thing as it will make zero unwanted variables "
   ]
  },
  {
   "cell_type": "code",
   "execution_count": 29,
   "metadata": {},
   "outputs": [
    {
     "name": "stdout",
     "output_type": "stream",
     "text": [
      "0.8360506658527163\n",
      "2.5831514271094234\n",
      "0.8335412372688292\n"
     ]
    }
   ],
   "source": [
    "Y_pred=lm.predict(X_test)\n",
    "\n",
    "from sklearn.metrics import r2_score,mean_squared_error\n",
    "import numpy as np\n",
    "\n",
    "r2=r2_score(Y_test,Y_pred)\n",
    "print(r2)\n",
    "\n",
    "rmse=np.sqrt(mean_squared_error(Y_test,Y_pred))\n",
    "print(rmse)\n",
    "\n",
    "adjusted_r_squared = 1 - (1-r2)*(len(Y)-1)/(len(Y)-X.shape[1]-1)\n",
    "print(adjusted_r_squared)\n",
    "\n",
    "\n",
    "# other word for lasso is L1 and ridge is L2"
   ]
  },
  {
   "cell_type": "code",
   "execution_count": 30,
   "metadata": {},
   "outputs": [],
   "source": [
    "#fit(X_train, Y_train)-->sklearn\n",
    "#Y~X1+X2+X3,data=df-->statsmodels\n"
   ]
  },
  {
   "cell_type": "code",
   "execution_count": 31,
   "metadata": {},
   "outputs": [
    {
     "name": "stderr",
     "output_type": "stream",
     "text": [
      "C:\\Users\\HP\\Anaconda3\\lib\\site-packages\\ipykernel_launcher.py:4: SettingWithCopyWarning: \n",
      "A value is trying to be set on a copy of a slice from a DataFrame.\n",
      "Try using .loc[row_indexer,col_indexer] = value instead\n",
      "\n",
      "See the caveats in the documentation: https://pandas.pydata.org/pandas-docs/stable/user_guide/indexing.html#returning-a-view-versus-a-copy\n",
      "  after removing the cwd from sys.path.\n"
     ]
    },
    {
     "data": {
      "text/plain": [
       "(160, 4)"
      ]
     },
     "execution_count": 31,
     "metadata": {},
     "output_type": "execute_result"
    }
   ],
   "source": [
    "new_df=pd.DataFrame()\n",
    "new_df=X_train\n",
    "\n",
    "new_df[\"sales\"]=Y_train\n",
    "new_df.shape\n"
   ]
  },
  {
   "cell_type": "code",
   "execution_count": 32,
   "metadata": {},
   "outputs": [
    {
     "data": {
      "text/html": [
       "<div>\n",
       "<style scoped>\n",
       "    .dataframe tbody tr th:only-of-type {\n",
       "        vertical-align: middle;\n",
       "    }\n",
       "\n",
       "    .dataframe tbody tr th {\n",
       "        vertical-align: top;\n",
       "    }\n",
       "\n",
       "    .dataframe thead th {\n",
       "        text-align: right;\n",
       "    }\n",
       "</style>\n",
       "<table border=\"1\" class=\"dataframe\">\n",
       "  <thead>\n",
       "    <tr style=\"text-align: right;\">\n",
       "      <th></th>\n",
       "      <th>TV</th>\n",
       "      <th>radio</th>\n",
       "      <th>newspaper</th>\n",
       "      <th>sales</th>\n",
       "    </tr>\n",
       "  </thead>\n",
       "  <tbody>\n",
       "    <tr>\n",
       "      <th>191</th>\n",
       "      <td>39.5</td>\n",
       "      <td>41.1</td>\n",
       "      <td>1.916923</td>\n",
       "      <td>10.8</td>\n",
       "    </tr>\n",
       "    <tr>\n",
       "      <th>8</th>\n",
       "      <td>120.2</td>\n",
       "      <td>19.6</td>\n",
       "      <td>2.533697</td>\n",
       "      <td>13.2</td>\n",
       "    </tr>\n",
       "    <tr>\n",
       "      <th>27</th>\n",
       "      <td>142.9</td>\n",
       "      <td>29.3</td>\n",
       "      <td>2.610070</td>\n",
       "      <td>15.0</td>\n",
       "    </tr>\n",
       "    <tr>\n",
       "      <th>139</th>\n",
       "      <td>43.0</td>\n",
       "      <td>25.9</td>\n",
       "      <td>3.068053</td>\n",
       "      <td>9.6</td>\n",
       "    </tr>\n",
       "    <tr>\n",
       "      <th>59</th>\n",
       "      <td>210.8</td>\n",
       "      <td>49.6</td>\n",
       "      <td>3.655840</td>\n",
       "      <td>23.8</td>\n",
       "    </tr>\n",
       "    <tr>\n",
       "      <th>...</th>\n",
       "      <td>...</td>\n",
       "      <td>...</td>\n",
       "      <td>...</td>\n",
       "      <td>...</td>\n",
       "    </tr>\n",
       "    <tr>\n",
       "      <th>114</th>\n",
       "      <td>209.6</td>\n",
       "      <td>20.6</td>\n",
       "      <td>2.459589</td>\n",
       "      <td>15.9</td>\n",
       "    </tr>\n",
       "    <tr>\n",
       "      <th>65</th>\n",
       "      <td>131.1</td>\n",
       "      <td>42.8</td>\n",
       "      <td>3.397858</td>\n",
       "      <td>18.0</td>\n",
       "    </tr>\n",
       "    <tr>\n",
       "      <th>16</th>\n",
       "      <td>195.4</td>\n",
       "      <td>47.7</td>\n",
       "      <td>3.987130</td>\n",
       "      <td>22.4</td>\n",
       "    </tr>\n",
       "    <tr>\n",
       "      <th>126</th>\n",
       "      <td>87.2</td>\n",
       "      <td>11.8</td>\n",
       "      <td>3.292126</td>\n",
       "      <td>10.6</td>\n",
       "    </tr>\n",
       "    <tr>\n",
       "      <th>10</th>\n",
       "      <td>199.8</td>\n",
       "      <td>2.6</td>\n",
       "      <td>3.100092</td>\n",
       "      <td>10.6</td>\n",
       "    </tr>\n",
       "  </tbody>\n",
       "</table>\n",
       "<p>160 rows × 4 columns</p>\n",
       "</div>"
      ],
      "text/plain": [
       "        TV  radio  newspaper  sales\n",
       "191   39.5   41.1   1.916923   10.8\n",
       "8    120.2   19.6   2.533697   13.2\n",
       "27   142.9   29.3   2.610070   15.0\n",
       "139   43.0   25.9   3.068053    9.6\n",
       "59   210.8   49.6   3.655840   23.8\n",
       "..     ...    ...        ...    ...\n",
       "114  209.6   20.6   2.459589   15.9\n",
       "65   131.1   42.8   3.397858   18.0\n",
       "16   195.4   47.7   3.987130   22.4\n",
       "126   87.2   11.8   3.292126   10.6\n",
       "10   199.8    2.6   3.100092   10.6\n",
       "\n",
       "[160 rows x 4 columns]"
      ]
     },
     "execution_count": 32,
     "metadata": {},
     "output_type": "execute_result"
    }
   ],
   "source": [
    "new_df"
   ]
  },
  {
   "cell_type": "code",
   "execution_count": 33,
   "metadata": {},
   "outputs": [
    {
     "name": "stdout",
     "output_type": "stream",
     "text": [
      "Intercept    3.353291\n",
      "TV           0.043743\n",
      "radio        0.193037\n",
      "newspaper   -0.048951\n",
      "dtype: float64\n",
      "                            OLS Regression Results                            \n",
      "==============================================================================\n",
      "Dep. Variable:                  sales   R-squared:                       0.921\n",
      "Model:                            OLS   Adj. R-squared:                  0.919\n",
      "Method:                 Least Squares   F-statistic:                     605.4\n",
      "Date:                Wed, 10 Jun 2020   Prob (F-statistic):           1.10e-85\n",
      "Time:                        21:00:27   Log-Likelihood:                -276.63\n",
      "No. Observations:                 160   AIC:                             561.3\n",
      "Df Residuals:                     156   BIC:                             573.6\n",
      "Df Model:                           3                                         \n",
      "Covariance Type:            nonrobust                                         \n",
      "==============================================================================\n",
      "                 coef    std err          t      P>|t|      [0.025      0.975]\n",
      "------------------------------------------------------------------------------\n",
      "Intercept      3.3533      0.442      7.578      0.000       2.479       4.227\n",
      "TV             0.0437      0.001     32.516      0.000       0.041       0.046\n",
      "radio          0.1930      0.008     24.946      0.000       0.178       0.208\n",
      "newspaper     -0.0490      0.125     -0.391      0.697      -0.297       0.199\n",
      "==============================================================================\n",
      "Omnibus:                       12.594   Durbin-Watson:                   2.106\n",
      "Prob(Omnibus):                  0.002   Jarque-Bera (JB):               13.403\n",
      "Skew:                          -0.699   Prob(JB):                      0.00123\n",
      "Kurtosis:                       3.237   Cond. No.                         697.\n",
      "==============================================================================\n",
      "\n",
      "Warnings:\n",
      "[1] Standard Errors assume that the covariance matrix of the errors is correctly specified.\n"
     ]
    },
    {
     "data": {
      "text/plain": [
       "'\\nH0-->Null Hypothesis\\nopp of alternate hypothesis\\n\\nH1-->Alternate hypothesis\\nStmt which you want to be proved as True\\n\\n\\nH0-->There is no significant relationship between X and Y\\n\\nH1-->There is a significant relationship between X and Y\\n\\np-value<0.05\\nIf pvalue is low, the null must go\\nIf pvalue is high, the null must fly\\n\\n\\nConfidence Interval-->95%\\n'"
      ]
     },
     "execution_count": 33,
     "metadata": {},
     "output_type": "execute_result"
    }
   ],
   "source": [
    "import statsmodels.formula.api as sm\n",
    "\n",
    "# create a fitted model with all three features\n",
    "lm_model = sm.ols(formula='sales ~ TV + radio + newspaper', data=new_df).fit()\n",
    "\n",
    "# print the coefficients\n",
    "print(lm_model.params)\n",
    "print(lm_model.summary())\n",
    "\n",
    "#AIC = Akaike Information Criteria = where data changes and model remains the same(As data is elimniated with various algorithm and then remaining data is coded)\n",
    "\n",
    "#BIC = Bayes Information Criteria\n",
    "#RMSE is used when data is same but algorithm is different(used by many algoritm as ridge, linear, lasso,etc)\n",
    "\n",
    "#P value is shown in result as newspaper is greater than 0.05\n",
    "\n",
    "#There should be no auto corelation data , can be check using durbin watson, durbin-watson value lies btewn 0 to 4.\n",
    "#values close to 2 indiactes no auto-corelation\n",
    "#values close to 4 indiactes no negetive auto-corelation\n",
    "#values close to 0 indiactes auto-corelation\n",
    "\n",
    "\n",
    "\n",
    "\n",
    "\"\"\"\n",
    "H0-->Null Hypothesis\n",
    "opp of alternate hypothesis\n",
    "\n",
    "H1-->Alternate hypothesis\n",
    "Stmt which you want to be proved as True\n",
    "\n",
    "\n",
    "H0-->There is no significant relationship between X and Y\n",
    "\n",
    "H1-->There is a significant relationship between X and Y\n",
    "\n",
    "p-value<0.05\n",
    "If pvalue is low, the null must go\n",
    "If pvalue is high, the null must fly\n",
    "\n",
    "\n",
    "Confidence Interval-->95%\n",
    "\"\"\""
   ]
  },
  {
   "cell_type": "code",
   "execution_count": 34,
   "metadata": {},
   "outputs": [
    {
     "name": "stdout",
     "output_type": "stream",
     "text": [
      "0.8360506658527163\n",
      "2.5831514271094234\n",
      "0.8335412372688292\n"
     ]
    }
   ],
   "source": [
    "Y_pred_new=lm.predict(X_test)\n",
    "\n",
    "from sklearn.metrics import r2_score,mean_squared_error\n",
    "import numpy as np\n",
    "\n",
    "r2=r2_score(Y_test,Y_pred_new)\n",
    "print(r2)\n",
    "\n",
    "rmse=np.sqrt(mean_squared_error(Y_test,Y_pred_new))\n",
    "print(rmse)\n",
    "\n",
    "adjusted_r_squared = 1 - (1-r2)*(len(Y)-1)/(len(Y)-X.shape[1]-1)\n",
    "print(adjusted_r_squared)\n",
    "\n"
   ]
  },
  {
   "cell_type": "code",
   "execution_count": 35,
   "metadata": {},
   "outputs": [
    {
     "name": "stdout",
     "output_type": "stream",
     "text": [
      "Intercept    3.217026\n",
      "TV           0.043721\n",
      "radio        0.192425\n",
      "dtype: float64\n",
      "                            OLS Regression Results                            \n",
      "==============================================================================\n",
      "Dep. Variable:                  sales   R-squared:                       0.921\n",
      "Model:                            OLS   Adj. R-squared:                  0.920\n",
      "Method:                 Least Squares   F-statistic:                     912.9\n",
      "Date:                Wed, 10 Jun 2020   Prob (F-statistic):           3.47e-87\n",
      "Time:                        21:00:27   Log-Likelihood:                -276.70\n",
      "No. Observations:                 160   AIC:                             559.4\n",
      "Df Residuals:                     157   BIC:                             568.6\n",
      "Df Model:                           2                                         \n",
      "Covariance Type:            nonrobust                                         \n",
      "==============================================================================\n",
      "                 coef    std err          t      P>|t|      [0.025      0.975]\n",
      "------------------------------------------------------------------------------\n",
      "Intercept      3.2170      0.271     11.855      0.000       2.681       3.753\n",
      "TV             0.0437      0.001     32.616      0.000       0.041       0.046\n",
      "radio          0.1924      0.008     25.462      0.000       0.177       0.207\n",
      "==============================================================================\n",
      "Omnibus:                       12.555   Durbin-Watson:                   2.100\n",
      "Prob(Omnibus):                  0.002   Jarque-Bera (JB):               13.347\n",
      "Skew:                          -0.697   Prob(JB):                      0.00126\n",
      "Kurtosis:                       3.241   Cond. No.                         418.\n",
      "==============================================================================\n",
      "\n",
      "Warnings:\n",
      "[1] Standard Errors assume that the covariance matrix of the errors is correctly specified.\n"
     ]
    }
   ],
   "source": [
    "import statsmodels.formula.api as sm\n",
    "\n",
    "# create a fitted model with all three features\n",
    "lm_model = sm.ols(formula='sales ~ TV + radio', data=new_df).fit()\n",
    "\n",
    "# print the coefficients\n",
    "print(lm_model.params)\n",
    "print(lm_model.summary())\n",
    "\n",
    "#Compare after removing newspaper\n",
    "#Now adjusted Rsquare incresae due to eliminating newspaper.\n",
    "#AIC n BIC decrese so this good model\n",
    "#P value is better\n",
    "#Durbin - watson also decreased which is also near to idEAL value(2 is ideal value)\n",
    "\n"
   ]
  },
  {
   "cell_type": "code",
   "execution_count": 36,
   "metadata": {},
   "outputs": [
    {
     "name": "stdout",
     "output_type": "stream",
     "text": [
      "0.8360506658527163\n",
      "2.5831514271094234\n",
      "0.8335412372688292\n"
     ]
    }
   ],
   "source": [
    "Y_pred_new=lm.predict(X_test)\n",
    "\n",
    "from sklearn.metrics import r2_score,mean_squared_error\n",
    "import numpy as np\n",
    "\n",
    "r2=r2_score(Y_test,Y_pred_new)\n",
    "print(r2)\n",
    "\n",
    "rmse=np.sqrt(mean_squared_error(Y_test,Y_pred_new))\n",
    "print(rmse)\n",
    "\n",
    "adjusted_r_squared = 1 - (1-r2)*(len(Y)-1)/(len(Y)-X.shape[1]-1)\n",
    "print(adjusted_r_squared)\n",
    "\n",
    "#adjusted R is slightly shift so below value is repeatedly check , so to check its varies and decreased."
   ]
  },
  {
   "cell_type": "code",
   "execution_count": 37,
   "metadata": {},
   "outputs": [
    {
     "data": {
      "text/plain": [
       "Text(0, 0.5, 'Residuals')"
      ]
     },
     "execution_count": 37,
     "metadata": {},
     "output_type": "execute_result"
    },
    {
     "data": {
      "image/png": "[encoded data removed]",
      "text/plain": [
       "<Figure size 864x576 with 1 Axes>"
      ]
     },
     "metadata": {
      "needs_background": "light"
     },
     "output_type": "display_data"
    }
   ],
   "source": [
    "plot_lm_1 = plt.figure(1)\n",
    "plot_lm_1.set_figheight(8)\n",
    "plot_lm_1.set_figwidth(12)\n",
    "\n",
    "# fitted values (need a constant term for intercept)\n",
    "model_fitted_y = lm_model.fittedvalues\n",
    "\n",
    "plot_lm_1.axes[0] = sns.residplot(model_fitted_y, 'sales', data=new_df, lowess=True)\n",
    "\n",
    "plot_lm_1.axes[0].set_title('Residuals vs Fitted')\n",
    "plot_lm_1.axes[0].set_xlabel('Fitted values')\n",
    "plot_lm_1.axes[0].set_ylabel('Residuals')\n",
    "\n",
    "\n",
    "#residual means error\n",
    "#error should be random, can be checked using residual vs fitted plot\n",
    "#In graph line should nor repeated as sine signal graph as up down .\n"
   ]
  },
  {
   "cell_type": "code",
   "execution_count": 38,
   "metadata": {},
   "outputs": [
    {
     "data": {
      "image/png": "[encoded data removed]",
      "text/plain": [
       "<Figure size 432x288 with 1 Axes>"
      ]
     },
     "metadata": {
      "needs_background": "light"
     },
     "output_type": "display_data"
    }
   ],
   "source": [
    "res = lm_model.resid\n",
    "import statsmodels.api as stm\n",
    "import scipy.stats as stats\n",
    "fig = stm.qqplot(res,  fit=True, line='45') # 45 is angle degree to plot graph\n",
    "plt.title('Normal Q-Q')\n",
    "plt.xlabel('Theoretical Quantiles')\n",
    "plt.ylabel('Standardized Residuals')\n",
    "plt.show() \n",
    "\n",
    "#errors should follow normal distribution can be checked using normal Quantile-Quantile plot\n",
    "#res means residual\n",
    "#scatter points meeting line that means it is good model/normal distribution, If not meeting that means errors are not following proper\n",
    "#"
   ]
  },
  {
   "cell_type": "code",
   "execution_count": 39,
   "metadata": {},
   "outputs": [
    {
     "data": {
      "text/plain": [
       "Text(0, 0.5, '$\\\\sqrt{|Standardized Residuals|}$')"
      ]
     },
     "execution_count": 39,
     "metadata": {},
     "output_type": "execute_result"
    },
    {
     "data": {
      "image/png": "[encoded data removed]",
      "text/plain": [
       "<Figure size 864x576 with 1 Axes>"
      ]
     },
     "metadata": {
      "needs_background": "light"
     },
     "output_type": "display_data"
    }
   ],
   "source": [
    "# normalized residuals\n",
    "model_norm_residuals = lm_model.get_influence().resid_studentized_internal\n",
    "# absolute squared normalized residuals\n",
    "model_norm_residuals_abs_sqrt = np.sqrt(np.abs(model_norm_residuals))\n",
    "\n",
    "plot_lm_3 = plt.figure(3)\n",
    "plot_lm_3.set_figheight(8)\n",
    "plot_lm_3.set_figwidth(12)\n",
    "plt.scatter(model_fitted_y, model_norm_residuals_abs_sqrt, alpha=0.5)\n",
    "sns.regplot(model_fitted_y, model_norm_residuals_abs_sqrt, lowess=True)\n",
    "\n",
    "\n",
    "plot_lm_3.axes[0].set_title('Scale-Location')\n",
    "plot_lm_3.axes[0].set_xlabel('Fitted values')\n",
    "plot_lm_3.axes[0].set_ylabel('$\\sqrt{|Standardized Residuals|}$')\n",
    "\n",
    "\n",
    "# Error shld follow a constant variance also know as asumption of homoscedasticity means equal variance can be check using scale loccation plot.\n",
    "# In graph line is straight horizontal then variance is prefect, In this graph our model is also better, But if the shape is V, then model is poor.\n",
    "# heteroscedasticity is called if V shape graph is shown as called as bad graph output."
   ]
  },
  {
   "cell_type": "code",
   "execution_count": 40,
   "metadata": {},
   "outputs": [
    {
     "data": {
      "text/plain": [
       "'\\n#Linear Regression procedure\\n1. Create a dataframe properly----pd.read_csv,excel\\n2. Assumption 1-- There should be no outliers in data(Do EDA as info,describe b4 finding outliears)---> pd.boxplot()\\n3. Assumption 2--- Assumption of linearity ---> pairplot is use to realtionship of x n y.... as it shows no relation with newspaper.\\n4. create X n Y\\n5. Assumption 3--Assumption of normality of Y--->displot(),log().\\n6. handle the skewness in the X---->if have high skew in any variable then use log1p() on that variable\\n7. there should be no multi-colinearity. this can be usechecking corealtion() n heatmap(),vif()\\n8. Then split data in test and train and also dive x n y both as train n test data.\\n9. Build the model-------\\n                       a. create mmodel--->obj=linear regression()\\n                       b. Train the model --->obj.fit (X_train , Y_train)\\n                       c.predict using model---> obj . predict(x_test)\\n                         (same process for other algorithm as lasso and ridge,, just change linear to lasso and ridge)\\n10.Evaluating the model:\\n                      a.Rsquare\\n                      b.Adjusted square\\n                      c. RMSE\\n                      d. P values\\n11. Assumption 5---There should be no auto-correlation in data----> find this using durbin - watson test.\\n12. Assumption 6---Errors should be random---> Fitted vs residual plot\\n13. Assumption 7---Error should follow distribution -----> Normal QQ plot\\n14. Assumption 8---Errors should follow constant variance----> Scale Location plot.\\n15. Tunning the model---> manual featrure selection, eliminate p-value, Ridge, lasso.\\n'"
      ]
     },
     "execution_count": 40,
     "metadata": {},
     "output_type": "execute_result"
    }
   ],
   "source": [
    "\"\"\"\n",
    "#Linear Regression procedure\n",
    "1. Create a dataframe properly----pd.read_csv,excel\n",
    "2. Assumption 1-- There should be no outliers in data(Do EDA as info,describe b4 finding outliears)---> pd.boxplot()\n",
    "3. Assumption 2--- Assumption of linearity ---> pairplot is use to realtionship of x n y.... as it shows no relation with newspaper.\n",
    "4. create X n Y\n",
    "5. Assumption 3--Assumption of normality of Y--->displot(),log().\n",
    "6. handle the skewness in the X---->if have high skew in any variable then use log1p() on that variable\n",
    "7. there should be no multi-colinearity. this can be usechecking corealtion() n heatmap(),vif()\n",
    "8. Then split data in test and train and also dive x n y both as train n test data.\n",
    "9. Build the model-------\n",
    "                       a. create mmodel--->obj=linear regression()\n",
    "                       b. Train the model --->obj.fit (X_train , Y_train)\n",
    "                       c.predict using model---> obj . predict(x_test)\n",
    "                         (same process for other algorithm as lasso and ridge,, just change linear to lasso and ridge)\n",
    "10.Evaluating the model:\n",
    "                      a.Rsquare\n",
    "                      b.Adjusted square\n",
    "                      c. RMSE\n",
    "                      d. P values\n",
    "11. Assumption 5---There should be no auto-correlation in data----> find this using durbin - watson test.\n",
    "12. Assumption 6---Errors should be random---> Fitted vs residual plot\n",
    "13. Assumption 7---Error should follow distribution -----> Normal QQ plot\n",
    "14. Assumption 8---Errors should follow constant variance----> Scale Location plot.\n",
    "15. Tunning the model---> manual featrure selection, eliminate p-value, Ridge, lasso.\n",
    "\"\"\"\n",
    "\n",
    "\n",
    "\n"
   ]
  },
  {
   "cell_type": "markdown",
   "metadata": {},
   "source": [
    "# Stochastic gradeint descent"
   ]
  },
  {
   "cell_type": "code",
   "execution_count": 41,
   "metadata": {},
   "outputs": [
    {
     "name": "stdout",
     "output_type": "stream",
     "text": [
      "[[ 9.69852266e-01  9.81522472e-01  1.27054817e+00]\n",
      " [-1.19737623e+00  1.08280781e+00  7.84008452e-01]\n",
      " [-1.51615499e+00  1.52846331e+00  1.27219508e+00]\n",
      " [ 5.20496822e-02  1.21785493e+00  1.07922051e+00]\n",
      " [ 3.94182198e-01 -8.41613655e-01  1.07727442e+00]\n",
      " [-1.61540845e+00  1.73103399e+00  1.36239293e+00]\n",
      " [-1.04557682e+00  6.43904671e-01  5.26522686e-02]\n",
      " [-3.13436589e-01 -2.47406325e-01 -7.16694174e-01]\n",
      " [-1.61657614e+00 -1.42906863e+00 -2.84612391e+00]\n",
      " [ 6.16042873e-01 -1.39530685e+00 -6.14011337e-02]\n",
      " [-9.45155670e-01 -1.17923146e+00  8.52446540e-02]\n",
      " [ 7.90028350e-01  4.96973404e-02 -1.78601844e+00]\n",
      " [-1.43908760e+00  7.99208859e-01  1.21484164e+00]\n",
      " [-5.78501712e-01 -1.05768905e+00 -1.21367806e+00]\n",
      " [ 6.66253447e-01  6.50657027e-01  8.06377739e-01]\n",
      " [ 5.64664612e-01  1.65000572e+00  9.64860512e-01]\n",
      " [-9.25304978e-01  9.00494200e-01  1.84160153e+00]\n",
      " [ 1.56887609e+00  1.10306488e+00  1.02549162e+00]\n",
      " [-9.08957349e-01 -1.86635121e-01 -2.23359761e-01]\n",
      " [ 3.00679600e-03  4.29449843e-02 -1.76370432e-01]\n",
      " [ 8.33232798e-01  2.99534513e-01  9.75543442e-01]\n",
      " [ 1.05509347e+00 -1.22649795e+00  5.26522686e-02]\n",
      " [-1.56286250e+00 -4.97243498e-01  8.91765481e-01]\n",
      " [ 9.48833887e-01 -4.29719938e-01  1.73604614e-01]\n",
      " [-9.89527805e-01 -7.20071247e-01 -2.23359761e-01]\n",
      " [ 1.35285385e+00 -1.33453565e+00 -1.53572588e-01]\n",
      " [-4.83714657e-02  4.07572210e-01 -6.28334214e-01]\n",
      " [ 1.08662104e+00 -4.43224650e-01  2.39660097e-02]\n",
      " [ 1.18820988e+00  2.59020377e-01  2.39660097e-02]\n",
      " [-8.92609721e-01 -4.90491142e-01  6.70723519e-01]\n",
      " [ 1.70316018e+00  3.40048650e-01  7.35314421e-01]\n",
      " [-3.98677796e-01 -3.95958157e-01  6.08170276e-01]\n",
      " [-5.82004775e-01 -1.46958277e+00  3.24899648e-01]\n",
      " [ 1.38438142e+00 -2.20396901e-01 -3.34451957e+00]\n",
      " [-5.99520091e-01 -1.47633512e+00 -1.18579832e+00]\n",
      " [ 1.67747105e+00 -1.29402151e+00 -1.04342355e+00]\n",
      " [ 1.39956136e+00  1.38666383e+00 -1.57508094e+00]\n",
      " [-8.44734522e-01  1.76479577e+00  7.98969262e-01]\n",
      " [-1.21372386e+00  2.32010953e-01  5.01110165e-01]\n",
      " [ 9.45330823e-01  9.74770116e-01  3.97232773e-01]\n",
      " [ 6.47570443e-01 -6.50927121e-02  3.83123413e-01]\n",
      " [ 3.49810063e-01  6.84418807e-01  6.11088192e-01]\n",
      " [ 1.71133400e+00  2.99534513e-01 -2.45684129e+00]\n",
      " [ 6.98948705e-01 -1.00367020e+00  1.82080499e-01]\n",
      " [-1.42390765e+00  1.64487393e-01  7.37929006e-01]\n",
      " [ 3.27623995e-01 -5.15880000e-02  3.79569023e-01]\n",
      " [-6.69581357e-01 -9.02384859e-01  5.20181253e-01]\n",
      " [ 1.08428567e+00  1.23135965e+00 -2.11432303e-01]\n",
      " [ 9.35989321e-01 -5.03995854e-01  8.98604633e-01]\n",
      " [-9.35814168e-01 -7.80842451e-01  5.54348797e-01]\n",
      " [ 6.16042873e-01 -1.36154507e+00  4.84973876e-01]\n",
      " [-5.44638766e-01 -9.22641928e-01 -1.88248706e+00]\n",
      " [ 8.09879042e-01  1.24486436e+00  6.37023472e-01]\n",
      " [ 4.15200577e-01  1.54872038e+00  1.08310291e+00]\n",
      " [ 1.35051848e+00  3.73810430e-01 -3.76993277e-01]\n",
      " [ 6.05533683e-01  1.76479577e+00  1.10802581e+00]\n",
      " [-1.63175608e+00  3.26543937e-01  6.87212442e-01]\n",
      " [-1.26606546e-01 -2.74415749e-01 -3.30038009e-01]\n",
      " [ 7.44488528e-01  1.77830048e+00  5.81572480e-01]\n",
      " [ 7.43320840e-01  4.21076922e-01 -9.49881463e-01]\n",
      " [-1.09228433e+00 -1.43582099e+00 -5.10248025e-02]\n",
      " [ 1.33417085e+00  1.31238792e+00  1.00286604e+00]\n",
      " [ 1.07727954e+00 -5.24252922e-01  2.19471827e-01]\n",
      " [-5.17781948e-01  4.27829278e-01 -1.05566656e+00]\n",
      " [-1.86158622e-01  1.31914027e+00  2.83100406e-01]\n",
      " [-9.11292725e-01 -9.42898996e-01 -2.90546785e+00]\n",
      " [-1.34917564e+00  9.02114765e-02 -2.30235172e+00]\n",
      " [-9.04082253e-02 -5.91776482e-01 -8.52963631e-01]\n",
      " [ 1.05509347e+00  2.86029801e-01 -7.73142110e-01]\n",
      " [ 8.14549794e-01  1.39341619e+00  2.15376414e-01]\n",
      " [ 6.07869059e-01  4.95352838e-01  6.11088192e-01]\n",
      " [-4.34876116e-01 -6.05281194e-01  3.86666917e-01]\n",
      " [-1.40405696e+00  6.57409383e-01 -1.64915357e-01]\n",
      " [-2.06009314e-01 -1.18598381e+00  3.72427314e-01]\n",
      " [ 7.74848409e-01  9.02114765e-02 -5.86562415e-01]\n",
      " [-1.51965805e+00  1.37991148e+00  1.56313695e+00]\n",
      " [-1.39588315e+00 -1.46283041e+00 -8.77565597e-02]\n",
      " [-3.09933525e-01  3.53553362e-01 -4.99651363e-01]\n",
      " [-1.65394214e+00  4.48086346e-01 -9.38703084e-01]\n",
      " [-3.62479475e-01 -1.05093669e+00  3.36073419e-02]\n",
      " [-8.24883830e-01  2.32010953e-01 -5.44963848e-03]\n",
      " [ 1.08311798e+00 -1.29402151e+00  5.57405478e-01]\n",
      " [-8.37728396e-01 -2.00139833e-01  4.14630893e-01]\n",
      " [-9.18298852e-01  1.43393033e+00  5.17024490e-01]\n",
      " [ 7.76016097e-01  1.33264499e+00  4.58678354e-01]\n",
      " [ 5.38975481e-01 -3.28434597e-01  1.21137770e+00]\n",
      " [-8.26051518e-01  2.86029801e-01 -3.70167575e-01]\n",
      " [-4.24366926e-01  1.17058844e+00  1.16718007e+00]\n",
      " [-6.85928986e-01  1.50982681e-01  1.33777598e+00]\n",
      " [-4.34876116e-01  1.65675807e+00  9.32206797e-01]\n",
      " [-1.48792614e-01 -1.24000266e+00 -9.49881463e-01]\n",
      " [-1.38303858e+00 -1.46958277e+00  4.31771253e-01]\n",
      " [ 8.25058983e-01  6.91171163e-01  1.08890219e+00]\n",
      " [ 1.21273132e+00  8.93741844e-01  1.32054278e+00]\n",
      " [-4.62900623e-01 -6.25538262e-01 -7.82823783e-01]\n",
      " [ 1.89836839e-01  5.62876398e-01  9.64860512e-01]\n",
      " [ 5.90353742e-01 -1.33453565e+00 -1.41338292e+00]\n",
      " [ 4.42057396e-01 -1.52873340e-01 -2.04427620e-02]\n",
      " [ 1.66579418e+00  1.28537849e+00  9.27782496e-01]\n",
      " [-1.38283424e-01  1.24486436e+00  8.03913514e-01]\n",
      " [ 8.79940308e-01 -1.28051680e+00  8.96329405e-01]\n",
      " [ 1.74402926e+00  8.80237132e-01  1.70167940e+00]\n",
      " [ 1.55486384e+00 -8.88880147e-01 -5.10248025e-02]\n",
      " [ 4.77088029e-01 -4.09462869e-01 -2.47590032e-01]\n",
      " [ 1.06443498e+00  7.45190011e-01 -1.51863300e+00]\n",
      " [-1.06755854e-01  1.56222509e+00  1.08890219e+00]\n",
      " [-1.42507534e+00 -8.28108943e-01  3.13648799e-01]\n",
      " [-6.61407543e-01 -1.55061104e+00  3.83980451e-02]\n",
      " [-1.56403019e+00 -1.54385868e+00  1.47797897e-01]\n",
      " [ 1.26527727e+00  2.45515665e-01 -1.48247527e+00]\n",
      " [ 9.19641692e-01 -1.01717491e+00  1.03966271e+00]\n",
      " [ 1.10530405e+00  9.95027184e-01  3.83980451e-02]\n",
      " [ 3.34630122e-01 -5.31005278e-01 -2.23221187e+00]\n",
      " [ 7.30476274e-01 -1.79882765e-01 -8.02433628e-01]\n",
      " [-8.03865450e-01  1.58923451e+00  4.81719434e-01]\n",
      " [-8.40063771e-01  7.92456503e-01  9.60559566e-01]\n",
      " [-9.15759131e-02 -6.05281194e-01  1.47797897e-01]\n",
      " [-8.24883830e-01 -1.51684926e+00 -4.54860486e-01]\n",
      " [-2.49213762e-01  9.20751268e-01  1.42462565e+00]\n",
      " [-1.49046586e+00 -4.90491142e-01 -5.44963848e-03]\n",
      " [-6.70544700e-02  2.38763309e-01  8.11290499e-01]\n",
      " [-1.49747198e+00 -1.05606848e-01  9.09914138e-01]\n",
      " [ 8.98623313e-01 -1.40881156e+00 -3.97715381e-01]\n",
      " [-2.79573643e-01  7.65447079e-01 -6.45474575e-01]\n",
      " [ 9.62846140e-01  6.10142891e-01  1.35014993e+00]\n",
      " [-6.98773552e-01 -7.74090095e-01  1.60773209e-01]\n",
      " [-1.62591764e+00  1.05579839e+00  9.14407166e-01]\n",
      " [-7.80511695e-01 -1.57086811e+00 -9.61168900e-01]\n",
      " [ 8.55418865e-01  1.73778635e+00 -1.98773715e+00]\n",
      " [-1.02105537e+00 -7.60585383e-01  7.32693914e-01]\n",
      " [-1.70882347e+00  1.10306488e+00 -1.01931949e+00]\n",
      " [ 1.37971067e+00 -1.37504978e+00  7.30067459e-01]\n",
      " [-1.61891151e+00  2.65772733e-01 -2.33908348e+00]\n",
      " [ 8.49580427e-01  6.91171163e-01  7.84008452e-01]\n",
      " [-1.28612050e+00  1.03554132e+00  1.20964184e+00]\n",
      " [-1.15300409e+00  1.60273923e+00 -1.04342355e+00]\n",
      " [-1.41806922e+00  1.06255074e+00 -9.49881463e-01]\n",
      " [ 1.47896413e+00  3.80562786e-01  1.10232184e+00]\n",
      " [-1.21489154e+00  1.77992105e-01 -9.84691656e-02]\n",
      " [ 4.42057396e-01  1.39341619e+00 -2.49891695e+00]\n",
      " [-8.59914463e-01 -4.22967582e-01 -6.03090598e-01]\n",
      " [ 5.44813920e-01  8.19465927e-01  1.37149091e+00]\n",
      " [ 8.57754241e-01  6.70914095e-01  5.87536170e-01]\n",
      " [-4.95595880e-01 -1.18598381e+00  4.78455813e-01]\n",
      " [-5.93681653e-01 -5.71519414e-01  6.16902040e-01]\n",
      " [-7.87313476e-02 -1.44257334e+00 -9.84079613e-01]\n",
      " [ 1.08662104e+00 -1.07794612e+00 -1.01931949e+00]\n",
      " [ 1.12281936e+00  1.73778635e+00  7.63754925e-01]\n",
      " [-1.27327593e+00  1.15033137e+00 -6.89470491e-01]\n",
      " [-1.19504085e+00  1.71239749e-01 -9.31004638e-02]\n",
      " [ 1.56070228e+00 -6.32290618e-01  5.60454105e-01]\n",
      " [-3.04095087e-01 -1.00367020e+00  8.71002056e-01]\n",
      " [ 5.90353742e-01  2.43084817e-03 -4.99651363e-01]\n",
      " [ 2.83251860e-01  1.10981724e+00  5.81572480e-01]\n",
      " [ 4.75920341e-01 -1.46120984e-01 -9.27631678e-01]\n",
      " [-1.66912209e+00 -7.87594807e-01 -1.44741340e+00]\n",
      " [-6.20538471e-01  1.36640677e+00  9.12162833e-01]\n",
      " [ 3.21989902e-02 -1.48308748e+00  8.98266528e-02]\n",
      " [-1.58037782e+00  9.20751268e-01  7.86515394e-01]\n",
      " [-1.79152496e-01 -3.28434597e-01  4.84973876e-01]\n",
      " [ 2.97264113e-01 -3.48691665e-01  3.50733806e-01]\n",
      " [-7.16288868e-01  8.46475352e-01  8.84885660e-01]\n",
      " [ 4.82926468e-01 -3.48691665e-01  1.47797897e-01]\n",
      " [ 1.92172214e-01  9.13998912e-01 -1.18579832e+00]\n",
      " [-3.48467222e-01 -5.78271770e-01 -1.50041289e+00]\n",
      " [ 1.02123053e+00 -1.34128800e+00  1.50271477e+00]\n",
      " [-1.50798117e+00  9.68017760e-01 -4.07407066e-02]\n",
      " [ 6.97781017e-01 -1.21974559e+00 -1.59230072e-01]\n",
      " [ 7.98202165e-01  2.26879163e-02  1.06158668e+00]\n",
      " [ 1.60273904e+00 -8.55118367e-01 -1.33244410e+00]\n",
      " [-1.13315340e+00 -7.87594807e-01 -2.17380661e-01]\n",
      " [ 2.03849092e-01 -1.59625696e-01  8.40336874e-01]\n",
      " [-1.48813048e+00 -2.13644545e-01 -3.04037967e-01]\n",
      " [ 2.49388915e-01 -1.09145083e+00 -6.11444087e-01]\n",
      " [ 8.79940308e-01 -1.34128800e+00 -5.86562415e-01]\n",
      " [ 1.51633014e+00  1.73103399e+00  6.98075932e-01]\n",
      " [ 1.18353913e+00  4.68343414e-01 -1.09281891e-01]\n",
      " [ 2.70407294e-01 -1.04418434e+00  5.04310591e-01]\n",
      " [ 1.51399477e+00 -1.41556392e+00  6.20584438e-02]\n",
      " [ 2.16693657e-01 -8.95632503e-01 -2.66101678e-01]\n",
      " [ 1.11601758e-01 -1.39530685e+00 -1.06804051e+00]\n",
      " [ 8.34400486e-01 -1.20624088e+00  2.23552795e-01]\n",
      " [-1.06075676e+00 -1.18598381e+00  3.13648799e-01]\n",
      " [ 1.64127273e+00  1.33264499e+00  1.31262383e+00]\n",
      " [ 1.24659427e+00 -1.32616272e-01  3.24899648e-01]\n",
      " [ 6.76762637e-01  1.47444446e+00 -1.47942634e-01]\n",
      " [-8.80728498e-02 -1.42906863e+00  1.90494741e-01]\n",
      " [ 5.14454038e-01  3.67058074e-01 -2.29369920e-01]\n",
      " [ 1.62258973e+00 -6.32290618e-01 -1.85760539e+00]\n",
      " [-1.49863967e+00 -7.53833027e-01  4.79203472e-02]\n",
      " [-1.25576062e+00  1.20435022e+00 -1.43027304e+00]\n",
      " [-8.35393020e-01 -8.41613655e-01 -1.39673582e+00]\n",
      " [-1.51615499e+00 -1.29402151e+00  3.83123413e-01]\n",
      " [ 2.30705910e-01  1.26512143e+00 -1.88248706e+00]\n",
      " [ 3.10313024e-02  8.32970639e-01 -1.39673582e+00]\n",
      " [-1.27094056e+00 -1.32103093e+00 -5.30505276e-01]\n",
      " [-6.17035408e-01 -1.24000266e+00 -1.09319265e+00]\n",
      " [ 3.49810063e-01 -9.42898996e-01 -1.33244410e+00]\n",
      " [ 1.59456522e+00  1.26512143e+00  1.22001817e+00]\n",
      " [ 9.93206022e-01 -9.90165488e-01 -1.01931949e+00]]\n"
     ]
    }
   ],
   "source": [
    "from sklearn.preprocessing import StandardScaler\n",
    "scaler=StandardScaler()\n",
    "X=scaler.fit_transform(X) #fit use flow within the range and transform is use to match X values with given ranges in scaler\n",
    "print(X)\n",
    "#Only use for X variable bcoz there are many variable avialable in X , as in Y the varaible is not change bcoz it is dependable."
   ]
  },
  {
   "cell_type": "code",
   "execution_count": 42,
   "metadata": {},
   "outputs": [],
   "source": [
    "from sklearn.model_selection import train_test_split\n",
    "\n",
    "#split the data into train and test\n",
    "X_train,X_test,Y_train,Y_test= train_test_split(X,Y,test_size=0.2,random_state=10)"
   ]
  },
  {
   "cell_type": "code",
   "execution_count": 43,
   "metadata": {},
   "outputs": [
    {
     "name": "stdout",
     "output_type": "stream",
     "text": [
      "[14.15311875]\n",
      "[ 3.72265799  2.79027528 -0.01680304]\n"
     ]
    },
    {
     "data": {
      "text/plain": [
       "'[6.79975933e+10]\\n[ 1.21678820e+12 -2.70583999e+11  5.46220480e+11]'"
      ]
     },
     "execution_count": 43,
     "metadata": {},
     "output_type": "execute_result"
    }
   ],
   "source": [
    "from sklearn.linear_model import SGDRegressor\n",
    "lm=SGDRegressor(learning_rate=\"constant\",eta0=0.01,random_state=10,max_iter=100)\n",
    "lm.fit(X_train,Y_train)\n",
    "\n",
    "#eta0 is known as learning rate which value is from 0,00001 to 0.9\n",
    "#max_iter means 100 nos of obs are group to execute\n",
    "\n",
    "\n",
    "#print intercept and coefficient\n",
    "print(lm.intercept_)\n",
    "print(lm.coef_)\n",
    "\n",
    "\"\"\"3.3522471725965985\n",
    "[ 0.04374234  0.19302603 -0.04853131]\n",
    "\"\"\"\n",
    "\n",
    "\"\"\"[6.79975933e+10]\n",
    "[ 1.21678820e+12 -2.70583999e+11  5.46220480e+11]\"\"\""
   ]
  },
  {
   "cell_type": "code",
   "execution_count": 44,
   "metadata": {},
   "outputs": [
    {
     "name": "stdout",
     "output_type": "stream",
     "text": [
      "0.834240960574798\n",
      "2.5973689697453377\n",
      "0.8317038324203306\n"
     ]
    }
   ],
   "source": [
    "Y_pred_new=lm.predict(X_test)\n",
    "\n",
    "from sklearn.metrics import r2_score,mean_squared_error\n",
    "import numpy as np\n",
    "\n",
    "r2=r2_score(Y_test,Y_pred_new)\n",
    "print(r2)\n",
    "\n",
    "rmse=np.sqrt(mean_squared_error(Y_test,Y_pred_new))\n",
    "print(rmse)\n",
    "\n",
    "adjusted_r_squared = 1 - (1-r2)*(len(Y)-1)/(len(Y)-X.shape[1]-1)\n",
    "print(adjusted_r_squared)\n"
   ]
  },
  {
   "cell_type": "code",
   "execution_count": 45,
   "metadata": {},
   "outputs": [
    {
     "name": "stdout",
     "output_type": "stream",
     "text": [
      "[14.15311875]\n",
      "[ 3.72265799  2.79027528 -0.01680304]\n"
     ]
    },
    {
     "data": {
      "text/plain": [
       "'[6.79975933e+10]\\n[ 1.21678820e+12 -2.70583999e+11  5.46220480e+11]'"
      ]
     },
     "execution_count": 45,
     "metadata": {},
     "output_type": "execute_result"
    }
   ],
   "source": [
    "from sklearn.linear_model import SGDRegressor\n",
    "lm=SGDRegressor(learning_rate=\"constant\",eta0=0.01,random_state=10,max_iter=1000)\n",
    "lm.fit(X_train,Y_train)\n",
    "\n",
    "#eta0 is known as learning rate which value is from 0,00001 to 0.9\n",
    "#max_iter means 100 nos of obs are group to execute\n",
    "\n",
    "\n",
    "#print intercept and coefficient\n",
    "print(lm.intercept_)\n",
    "print(lm.coef_)\n",
    "\n",
    "\"\"\"3.3522471725965985\n",
    "[ 0.04374234  0.19302603 -0.04853131]\n",
    "\"\"\"\n",
    "\n",
    "\"\"\"[6.79975933e+10]\n",
    "[ 1.21678820e+12 -2.70583999e+11  5.46220480e+11]\"\"\""
   ]
  },
  {
   "cell_type": "code",
   "execution_count": 46,
   "metadata": {},
   "outputs": [
    {
     "name": "stdout",
     "output_type": "stream",
     "text": [
      "0.834240960574798\n",
      "2.5973689697453377\n",
      "0.8317038324203306\n"
     ]
    }
   ],
   "source": [
    "Y_pred_new=lm.predict(X_test)\n",
    "\n",
    "from sklearn.metrics import r2_score,mean_squared_error\n",
    "import numpy as np\n",
    "\n",
    "r2=r2_score(Y_test,Y_pred_new)\n",
    "print(r2)\n",
    "\n",
    "rmse=np.sqrt(mean_squared_error(Y_test,Y_pred_new))\n",
    "print(rmse)\n",
    "\n",
    "adjusted_r_squared = 1 - (1-r2)*(len(Y)-1)/(len(Y)-X.shape[1]-1)\n",
    "print(adjusted_r_squared)\n"
   ]
  },
  {
   "cell_type": "code",
   "execution_count": 47,
   "metadata": {},
   "outputs": [
    {
     "name": "stdout",
     "output_type": "stream",
     "text": [
      "[14.0883131]\n",
      "[ 3.73344104  2.83596993 -0.02634317]\n"
     ]
    },
    {
     "data": {
      "text/plain": [
       "'[6.79975933e+10]\\n[ 1.21678820e+12 -2.70583999e+11  5.46220480e+11]'"
      ]
     },
     "execution_count": 47,
     "metadata": {},
     "output_type": "execute_result"
    }
   ],
   "source": [
    "from sklearn.linear_model import SGDRegressor\n",
    "lm=SGDRegressor(learning_rate=\"constant\",eta0=0.001,random_state=10,max_iter=10000)\n",
    "lm.fit(X_train,Y_train)\n",
    "\n",
    "#eta0 is known as learning rate which value is from 0.0001 to 0.9\n",
    "#max_iter means 100 nos of obs are group to execute\n",
    "\n",
    "\n",
    "#print intercept and coefficient\n",
    "print(lm.intercept_)\n",
    "print(lm.coef_)\n",
    "\n",
    "\"\"\"3.3522471725965985\n",
    "[ 0.04374234  0.19302603 -0.04853131]\n",
    "\"\"\"\n",
    "\n",
    "\"\"\"[6.79975933e+10]\n",
    "[ 1.21678820e+12 -2.70583999e+11  5.46220480e+11]\"\"\""
   ]
  },
  {
   "cell_type": "code",
   "execution_count": 48,
   "metadata": {},
   "outputs": [
    {
     "name": "stdout",
     "output_type": "stream",
     "text": [
      "0.835585606522484\n",
      "2.5868125214610256\n",
      "0.8330690596835424\n"
     ]
    }
   ],
   "source": [
    "Y_pred_new=lm.predict(X_test)\n",
    "\n",
    "from sklearn.metrics import r2_score,mean_squared_error\n",
    "import numpy as np\n",
    "\n",
    "r2=r2_score(Y_test,Y_pred_new)\n",
    "print(r2)\n",
    "\n",
    "rmse=np.sqrt(mean_squared_error(Y_test,Y_pred_new))\n",
    "print(rmse)\n",
    "\n",
    "adjusted_r_squared = 1 - (1-r2)*(len(Y)-1)/(len(Y)-X.shape[1]-1)\n",
    "print(adjusted_r_squared)\n"
   ]
  },
  {
   "cell_type": "code",
   "execution_count": null,
   "metadata": {},
   "outputs": [],
   "source": []
  },
  {
   "cell_type": "code",
   "execution_count": null,
   "metadata": {},
   "outputs": [],
   "source": []
  },
  {
   "cell_type": "code",
   "execution_count": null,
   "metadata": {},
   "outputs": [],
   "source": []
  }
 ],
 "metadata": {
  "kernelspec": {
   "display_name": "Python 3",
   "language": "python",
   "name": "python3"
  },
  "language_info": {
   "codemirror_mode": {
    "name": "ipython",
    "version": 3
   },
   "file_extension": ".py",
   "mimetype": "text/x-python",
   "name": "python",
   "nbconvert_exporter": "python",
   "pygments_lexer": "ipython3",
   "version": "3.7.4"
  }
 },
 "nbformat": 4,
 "nbformat_minor": 2
}
